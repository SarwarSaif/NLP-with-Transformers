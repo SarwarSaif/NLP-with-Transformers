{
  "nbformat": 4,
  "nbformat_minor": 0,
  "metadata": {
    "colab": {
      "name": "preprocessing-for-nlp.ipynb",
      "provenance": [],
      "toc_visible": true,
      "authorship_tag": "ABX9TyN5Bhlpj/kIC1VR8FCYZ2tR"
    },
    "kernelspec": {
      "name": "python3",
      "display_name": "Python 3"
    },
    "language_info": {
      "name": "python"
    }
  },
  "cells": [
    {
      "cell_type": "code",
      "metadata": {
        "colab": {
          "base_uri": "https://localhost:8080/"
        },
        "id": "aIoUu1nXrhXr",
        "outputId": "cab09ca7-b516-4e2a-d33a-cb09b647b70d"
      },
      "source": [
        "# Here I'll use the kaggle dataset from Commolit Readability Competition https://www.kaggle.com/c/commonlitreadabilityprize/data\n",
        "# At first let me Mount my drive to get the dataset\n",
        "HOME_PATH = \"/content\"\n",
        "%cd \"$HOME_PATH\"\n",
        "from google.colab import drive \n",
        "drive.mount(\"/content/drive\")\n",
        "# Kaggle dataset path\n",
        "DATASET_PATH = \"/content/drive/My Drive/Data Science/data/commonlitreadabilityprize/\""
      ],
      "execution_count": 1,
      "outputs": [
        {
          "output_type": "stream",
          "text": [
            "/content\n",
            "Mounted at /content/drive\n"
          ],
          "name": "stdout"
        }
      ]
    },
    {
      "cell_type": "code",
      "metadata": {
        "colab": {
          "base_uri": "https://localhost:8080/"
        },
        "id": "N4tZ25BKw8K1",
        "outputId": "aa6e1ec9-a98e-4c45-d213-f380c28a6281"
      },
      "source": [
        "### Import Some Libraries\n",
        "import os\n",
        "import numpy as np\n",
        "import pandas as pd\n",
        "import matplotlib.pyplot as plt\n",
        "from matplotlib.lines import Line2D\n",
        "import seaborn as sns\n",
        "import missingno as msno\n",
        "import re\n",
        "\n",
        "\n",
        "from typing import Tuple, List\n",
        "\n",
        "# Preprocessing Libraries\n",
        "import nltk\n",
        "nltk.download('punkt')\n",
        "nltk.download('stopwords')\n",
        "nltk.download('wordnet')\n",
        "from nltk.tokenize import sent_tokenize, word_tokenize \n",
        "from nltk.corpus import stopwords\n",
        "from nltk import pos_tag\n",
        "\n",
        "# Spacy vs NLTK https://www.quora.com/What-are-the-advantages-of-Spacy-vs-NLTK\n",
        "import spacy"
      ],
      "execution_count": 15,
      "outputs": [
        {
          "output_type": "stream",
          "text": [
            "[nltk_data] Downloading package punkt to /root/nltk_data...\n",
            "[nltk_data]   Package punkt is already up-to-date!\n",
            "[nltk_data] Downloading package stopwords to /root/nltk_data...\n",
            "[nltk_data]   Package stopwords is already up-to-date!\n",
            "[nltk_data] Downloading package wordnet to /root/nltk_data...\n",
            "[nltk_data]   Unzipping corpora/wordnet.zip.\n"
          ],
          "name": "stdout"
        }
      ]
    },
    {
      "cell_type": "code",
      "metadata": {
        "colab": {
          "base_uri": "https://localhost:8080/",
          "height": 298
        },
        "id": "Hq_J4rqw0b0L",
        "outputId": "60e4cbdc-39ad-4629-f3b3-af1f68fb7657"
      },
      "source": [
        "sns.set_context(\"notebook\", font_scale=1.5, rc={\"lines.linewidth\": 2.5})\n",
        "!pip install rich\n",
        "from rich.console import Console\n",
        "from rich import print\n",
        "from rich.theme import Theme\n",
        "def custom_palette(custom_colors):\n",
        "    customPalette = sns.set_palette(sns.color_palette(custom_colors))\n",
        "    sns.palplot(sns.color_palette(custom_colors),size=0.8)\n",
        "    plt.tick_params(axis='both', labelsize=0, length = 0)\n",
        "\n",
        "palette = [\"#7209B7\",\"#3F88C5\",\"#136F63\",\"#F72585\",\"#FFBA08\"]\n",
        "#palette2 = sns.diverging_palette(120, 220, n=20)\n",
        "custom_palette(palette)\n",
        "\n",
        "custom_theme = Theme({\n",
        "    \"info\" : \"italic bold cyan\",\n",
        "    \"warning\": \"italic bold magenta\",\n",
        "    \"danger\": \"bold blue\"\n",
        "})\n",
        "\n",
        "console = Console(theme=custom_theme)"
      ],
      "execution_count": 22,
      "outputs": [
        {
          "output_type": "stream",
          "text": [
            "Collecting rich\n",
            "\u001b[?25l  Downloading https://files.pythonhosted.org/packages/52/48/7e6420e2d256183ec215b5d7c2980d85492160a388f741e8f2f912c068e2/rich-10.5.0-py3-none-any.whl (207kB)\n",
            "\u001b[K     |████████████████████████████████| 215kB 7.0MB/s \n",
            "\u001b[?25hCollecting colorama<0.5.0,>=0.4.0\n",
            "  Downloading https://files.pythonhosted.org/packages/44/98/5b86278fbbf250d239ae0ecb724f8572af1c91f4a11edf4d36a206189440/colorama-0.4.4-py2.py3-none-any.whl\n",
            "Requirement already satisfied: typing-extensions<4.0.0,>=3.7.4; python_version < \"3.8\" in /usr/local/lib/python3.7/dist-packages (from rich) (3.7.4.3)\n",
            "Requirement already satisfied: pygments<3.0.0,>=2.6.0 in /usr/local/lib/python3.7/dist-packages (from rich) (2.6.1)\n",
            "Collecting commonmark<0.10.0,>=0.9.0\n",
            "\u001b[?25l  Downloading https://files.pythonhosted.org/packages/b1/92/dfd892312d822f36c55366118b95d914e5f16de11044a27cf10a7d71bbbf/commonmark-0.9.1-py2.py3-none-any.whl (51kB)\n",
            "\u001b[K     |████████████████████████████████| 51kB 7.4MB/s \n",
            "\u001b[?25hInstalling collected packages: colorama, commonmark, rich\n",
            "Successfully installed colorama-0.4.4 commonmark-0.9.1 rich-10.5.0\n"
          ],
          "name": "stdout"
        },
        {
          "output_type": "display_data",
          "data": {
            "image/png": "[encoded data removed]",
            "text/plain": [
              "<Figure size 288x57.6 with 1 Axes>"
            ]
          },
          "metadata": {
            "tags": [],
            "needs_background": "light"
          }
        }
      ]
    },
    {
      "cell_type": "code",
      "metadata": {
        "id": "ZJwzd-Trwhio"
      },
      "source": [
        "# Read in data\n",
        "train_df = pd.read_csv(f\"{DATASET_PATH}train.csv\")\n",
        "test_df = pd.read_csv(f\"{DATASET_PATH}test.csv\")"
      ],
      "execution_count": 4,
      "outputs": []
    },
    {
      "cell_type": "code",
      "metadata": {
        "colab": {
          "base_uri": "https://localhost:8080/",
          "height": 204
        },
        "id": "N8w9BKvBw3jz",
        "outputId": "0802f598-0e30-4aed-cab7-d3d09e5f9830"
      },
      "source": [
        "# Print out the first few rows of the data\n",
        "train_df.head()"
      ],
      "execution_count": 6,
      "outputs": [
        {
          "output_type": "execute_result",
          "data": {
            "text/html": [
              "<div>\n",
              "<style scoped>\n",
              "    .dataframe tbody tr th:only-of-type {\n",
              "        vertical-align: middle;\n",
              "    }\n",
              "\n",
              "    .dataframe tbody tr th {\n",
              "        vertical-align: top;\n",
              "    }\n",
              "\n",
              "    .dataframe thead th {\n",
              "        text-align: right;\n",
              "    }\n",
              "</style>\n",
              "<table border=\"1\" class=\"dataframe\">\n",
              "  <thead>\n",
              "    <tr style=\"text-align: right;\">\n",
              "      <th></th>\n",
              "      <th>id</th>\n",
              "      <th>url_legal</th>\n",
              "      <th>license</th>\n",
              "      <th>excerpt</th>\n",
              "      <th>target</th>\n",
              "      <th>standard_error</th>\n",
              "    </tr>\n",
              "  </thead>\n",
              "  <tbody>\n",
              "    <tr>\n",
              "      <th>0</th>\n",
              "      <td>c12129c31</td>\n",
              "      <td>NaN</td>\n",
              "      <td>NaN</td>\n",
              "      <td>When the young people returned to the ballroom...</td>\n",
              "      <td>-0.340259</td>\n",
              "      <td>0.464009</td>\n",
              "    </tr>\n",
              "    <tr>\n",
              "      <th>1</th>\n",
              "      <td>85aa80a4c</td>\n",
              "      <td>NaN</td>\n",
              "      <td>NaN</td>\n",
              "      <td>All through dinner time, Mrs. Fayre was somewh...</td>\n",
              "      <td>-0.315372</td>\n",
              "      <td>0.480805</td>\n",
              "    </tr>\n",
              "    <tr>\n",
              "      <th>2</th>\n",
              "      <td>b69ac6792</td>\n",
              "      <td>NaN</td>\n",
              "      <td>NaN</td>\n",
              "      <td>As Roger had predicted, the snow departed as q...</td>\n",
              "      <td>-0.580118</td>\n",
              "      <td>0.476676</td>\n",
              "    </tr>\n",
              "    <tr>\n",
              "      <th>3</th>\n",
              "      <td>dd1000b26</td>\n",
              "      <td>NaN</td>\n",
              "      <td>NaN</td>\n",
              "      <td>And outside before the palace a great garden w...</td>\n",
              "      <td>-1.054013</td>\n",
              "      <td>0.450007</td>\n",
              "    </tr>\n",
              "    <tr>\n",
              "      <th>4</th>\n",
              "      <td>37c1b32fb</td>\n",
              "      <td>NaN</td>\n",
              "      <td>NaN</td>\n",
              "      <td>Once upon a time there were Three Bears who li...</td>\n",
              "      <td>0.247197</td>\n",
              "      <td>0.510845</td>\n",
              "    </tr>\n",
              "  </tbody>\n",
              "</table>\n",
              "</div>"
            ],
            "text/plain": [
              "          id url_legal  ...    target standard_error\n",
              "0  c12129c31       NaN  ... -0.340259       0.464009\n",
              "1  85aa80a4c       NaN  ... -0.315372       0.480805\n",
              "2  b69ac6792       NaN  ... -0.580118       0.476676\n",
              "3  dd1000b26       NaN  ... -1.054013       0.450007\n",
              "4  37c1b32fb       NaN  ...  0.247197       0.510845\n",
              "\n",
              "[5 rows x 6 columns]"
            ]
          },
          "metadata": {
            "tags": []
          },
          "execution_count": 6
        }
      ]
    },
    {
      "cell_type": "code",
      "metadata": {
        "colab": {
          "base_uri": "https://localhost:8080/",
          "height": 171
        },
        "id": "Jh8y2cf9xH71",
        "outputId": "bcdb912e-5f2c-4e32-fe97-1a5584b6feee"
      },
      "source": [
        "# Let's have a look at some of the text data\n",
        "train_df.loc[0, 'excerpt']"
      ],
      "execution_count": 7,
      "outputs": [
        {
          "output_type": "execute_result",
          "data": {
            "application/vnd.google.colaboratory.intrinsic+json": {
              "type": "string"
            },
            "text/plain": [
              "'When the young people returned to the ballroom, it presented a decidedly changed appearance. Instead of an interior scene, it was a winter landscape.\\nThe floor was covered with snow-white canvas, not laid on smoothly, but rumpled over bumps and hillocks, like a real snow field. The numerous palms and evergreens that had decorated the room, were powdered with flour and strewn with tufts of cotton, like snow. Also diamond dust had been lightly sprinkled on them, and glittering crystal icicles hung from the branches.\\nAt each end of the room, on the wall, hung a beautiful bear-skin rug.\\nThese rugs were for prizes, one for the girls and one for the boys. And this was the game.\\nThe girls were gathered at one end of the room and the boys at the other, and one end was called the North Pole, and the other the South Pole. Each player was given a small flag which they were to plant on reaching the Pole.\\nThis would have been an easy matter, but each traveller was obliged to wear snowshoes.'"
            ]
          },
          "metadata": {
            "tags": []
          },
          "execution_count": 7
        }
      ]
    },
    {
      "cell_type": "markdown",
      "metadata": {
        "id": "dm7PgOg4xgL8"
      },
      "source": [
        "## Preprocessing the data\n",
        "There are some common methods for preprocessing the data. Let's write a reusable function for preprocessing."
      ]
    },
    {
      "cell_type": "code",
      "metadata": {
        "id": "lWpOxPadxelI"
      },
      "source": [
        "# Clean and Tokenize all the excerpts\n",
        "def extract_characters_only(excerpt:str) -> str:\n",
        "    return re.sub(\"[^a-zA-Z]\", \" \", excerpt) # Remove everything without letters\n",
        "\n",
        "def clean_excerpts(excerpt:str) -> str:\n",
        "    #print(type(excerpt))\n",
        "    excerpt_cleaned = extract_characters_only(excerpt)\n",
        "    #print(type(excerpt_cleaned))\n",
        "    excerpt_cleaned = excerpt_cleaned.lower() # Convert all words into lowercase\n",
        "    excerpt_cleaned = word_tokenize(excerpt_cleaned) # Tokenize all words\n",
        "    excerpt_cleaned = [word for word in excerpt_cleaned if not word in set(stopwords.words(\"english\"))] # Remove stopwords from the list\n",
        "    excerpt_cleaned = [nltk.WordNetLemmatizer().lemmatize(word) for word in excerpt_cleaned] # Lemmatize all the words\n",
        "    excerpt_cleaned = \" \".join(excerpt_cleaned) # Join all the words back as string from array of strings\n",
        "    return excerpt_cleaned\n",
        "\n",
        "# Count Words per Excerpt_Cleaned\n",
        "def count_words_per_excerpts_cleaned(cleaned_excerpt: str)-> int:\n",
        "    return len([word for word in cleaned_excerpt.split(' ')])\n",
        "\n",
        "# Count Sentences per Excerpt\n",
        "def count_number_of_senteces_per_excerpt(excerpt: str)-> int:\n",
        "    return len(excerpt.split('.'))\n",
        "\n",
        "# Count Syllables per Excerpt Cleaned\n",
        "def syllable_count(word):\n",
        "    #word = word.lower()\n",
        "    count = 0\n",
        "    vowels = \"aeiouy\"\n",
        "    if word[0] in vowels:\n",
        "        count += 1\n",
        "    for index in range(1, len(word)):\n",
        "        if word[index] in vowels and word[index - 1] not in vowels:\n",
        "            count += 1\n",
        "    if word.endswith(\"e\"):\n",
        "        count -= 1\n",
        "    if count == 0:\n",
        "        count += 1\n",
        "    return count\n",
        "\n",
        "def count_syllables_per_excerpt(cleaned_excerpt: str)-> int:\n",
        "    number_of_syllables = 0\n",
        "    for word in cleaned_excerpt:\n",
        "        number_of_syllables = number_of_syllables + syllable_count(word)\n",
        "    return number_of_syllables\n",
        "\n",
        "\n",
        "\n",
        "# Count POS Tag frequencies\n",
        "def get_pos_tag_frequency(excerpt_cleaned:str)-> dict:\n",
        "    pos_tags = pos_tag(excerpt_cleaned.split(\" \")) # get pos tags for each word\n",
        "    # print(pos_tags)\n",
        "    def count_tags(pos_tags):\n",
        "        tag_count = {}\n",
        "        for word,tag in pos_tags:\n",
        "            if tag in tag_count:\n",
        "                tag_count[tag] += 1\n",
        "            else:\n",
        "                tag_count[tag] = 1\n",
        "        return tag_count\n",
        "    return count_tags(pos_tags)\n",
        "\n",
        "# Seperate individual pos tag frequencies into columns\n",
        "def sep_pos_tag(df):\n",
        "    tag_name = ['JJ', 'NN']\n",
        "    def get_pos(x, tag):\n",
        "        if x.get(tag):\n",
        "            return x.get(tag)\n",
        "        else:\n",
        "            return 0\n",
        "    for tag in tag_name:\n",
        "        #print(tag)\n",
        "        df[tag] = df['pos_tag_freq'].apply(lambda x: get_pos(x, tag))\n",
        "    return df"
      ],
      "execution_count": 8,
      "outputs": []
    },
    {
      "cell_type": "code",
      "metadata": {
        "id": "t5Y_f-GixbGZ"
      },
      "source": [
        "from copy import deepcopy\n",
        "df_processed = deepcopy(train_df)\n",
        "# Clean and tokenize Excerpts as Excerpt_Cleaned # \"excerpts\" > \"excerpt_cleaned\"\n",
        "df_processed['excerpt_cleaned'] = df_processed['excerpt'].apply(lambda x: clean_excerpts(x))\n",
        "    "
      ],
      "execution_count": 16,
      "outputs": []
    },
    {
      "cell_type": "code",
      "metadata": {
        "colab": {
          "base_uri": "https://localhost:8080/",
          "height": 391
        },
        "id": "20m6xuJ_yfS-",
        "outputId": "63f3ce68-087e-4006-ac2f-40063f70ac4d"
      },
      "source": [
        "print('>>>>>>>>>> Before Preprocessing')\n",
        "print(df_processed.loc[0, 'excerpt'])\n",
        "print('>>>>>>>>>> After Preprocessing')\n",
        "print(df_processed.loc[0, 'excerpt_cleaned'])"
      ],
      "execution_count": 24,
      "outputs": [
        {
          "output_type": "display_data",
          "data": {
            "text/html": [
              "<pre style=\"white-space:pre;overflow-x:auto;line-height:normal;font-family:Menlo,'DejaVu Sans Mono',consolas,'Courier New',monospace\">&gt;&gt;&gt;&gt;&gt;&gt;&gt;&gt;&gt;&gt; Before Preprocessing\n",
              "</pre>\n"
            ],
            "text/plain": [
              ">>>>>>>>>> Before Preprocessing\n"
            ]
          },
          "metadata": {
            "tags": []
          }
        },
        {
          "output_type": "display_data",
          "data": {
            "text/html": [
              "<pre style=\"white-space:pre;overflow-x:auto;line-height:normal;font-family:Menlo,'DejaVu Sans Mono',consolas,'Courier New',monospace\">When the young people returned to the ballroom, it presented a decidedly changed appearance. \n",
              "Instead of an interior scene, it was a winter landscape.\n",
              "The floor was covered with snow-white canvas, not laid on smoothly, but rumpled over bumps \n",
              "and hillocks, like a real snow field. The numerous palms and evergreens that had decorated \n",
              "the room, were powdered with flour and strewn with tufts of cotton, like snow. Also diamond \n",
              "dust had been lightly sprinkled on them, and glittering crystal icicles hung from the \n",
              "branches.\n",
              "At each end of the room, on the wall, hung a beautiful bear-skin rug.\n",
              "These rugs were for prizes, one for the girls and one for the boys. And this was the game.\n",
              "The girls were gathered at one end of the room and the boys at the other, and one end was \n",
              "called the North Pole, and the other the South Pole. Each player was given a small flag which\n",
              "they were to plant on reaching the Pole.\n",
              "This would have been an easy matter, but each traveller was obliged to wear snowshoes.\n",
              "</pre>\n"
            ],
            "text/plain": [
              "When the young people returned to the ballroom, it presented a decidedly changed appearance. \n",
              "Instead of an interior scene, it was a winter landscape.\n",
              "The floor was covered with snow-white canvas, not laid on smoothly, but rumpled over bumps \n",
              "and hillocks, like a real snow field. The numerous palms and evergreens that had decorated \n",
              "the room, were powdered with flour and strewn with tufts of cotton, like snow. Also diamond \n",
              "dust had been lightly sprinkled on them, and glittering crystal icicles hung from the \n",
              "branches.\n",
              "At each end of the room, on the wall, hung a beautiful bear-skin rug.\n",
              "These rugs were for prizes, one for the girls and one for the boys. And this was the game.\n",
              "The girls were gathered at one end of the room and the boys at the other, and one end was \n",
              "called the North Pole, and the other the South Pole. Each player was given a small flag which\n",
              "they were to plant on reaching the Pole.\n",
              "This would have been an easy matter, but each traveller was obliged to wear snowshoes.\n"
            ]
          },
          "metadata": {
            "tags": []
          }
        },
        {
          "output_type": "display_data",
          "data": {
            "text/html": [
              "<pre style=\"white-space:pre;overflow-x:auto;line-height:normal;font-family:Menlo,'DejaVu Sans Mono',consolas,'Courier New',monospace\">&gt;&gt;&gt;&gt;&gt;&gt;&gt;&gt;&gt;&gt; After Preprocessing\n",
              "</pre>\n"
            ],
            "text/plain": [
              ">>>>>>>>>> After Preprocessing\n"
            ]
          },
          "metadata": {
            "tags": []
          }
        },
        {
          "output_type": "display_data",
          "data": {
            "text/html": [
              "<pre style=\"white-space:pre;overflow-x:auto;line-height:normal;font-family:Menlo,'DejaVu Sans Mono',consolas,'Courier New',monospace\">young people returned ballroom presented decidedly changed appearance instead interior scene \n",
              "winter landscape floor covered snow white canvas laid smoothly rumpled bump hillock like real\n",
              "snow field numerous palm evergreen decorated room powdered flour strewn tuft cotton like snow\n",
              "also diamond dust lightly sprinkled glittering crystal icicle hung branch end room wall hung \n",
              "beautiful bear skin rug rug prize one girl one boy game girl gathered one end room boy one \n",
              "end called north pole south pole player given small flag plant reaching pole would easy \n",
              "matter traveller obliged wear snowshoe\n",
              "</pre>\n"
            ],
            "text/plain": [
              "young people returned ballroom presented decidedly changed appearance instead interior scene \n",
              "winter landscape floor covered snow white canvas laid smoothly rumpled bump hillock like real\n",
              "snow field numerous palm evergreen decorated room powdered flour strewn tuft cotton like snow\n",
              "also diamond dust lightly sprinkled glittering crystal icicle hung branch end room wall hung \n",
              "beautiful bear skin rug rug prize one girl one boy game girl gathered one end room boy one \n",
              "end called north pole south pole player given small flag plant reaching pole would easy \n",
              "matter traveller obliged wear snowshoe\n"
            ]
          },
          "metadata": {
            "tags": []
          }
        }
      ]
    },
    {
      "cell_type": "code",
      "metadata": {
        "id": "2BqgDqCCz_Wa"
      },
      "source": [
        ""
      ],
      "execution_count": null,
      "outputs": []
    }
  ]
}