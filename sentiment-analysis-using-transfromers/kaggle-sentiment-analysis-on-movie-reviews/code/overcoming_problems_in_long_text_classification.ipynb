{
  "nbformat": 4,
  "nbformat_minor": 0,
  "metadata": {
    "colab": {
      "name": "overcoming-problems-in-long-text-classification.ipynb",
      "provenance": [],
      "authorship_tag": "ABX9TyOHBabci4Z2mAppgSO1FgIF"
    },
    "kernelspec": {
      "name": "python3",
      "display_name": "Python 3.7.11 64-bit"
    },
    "language_info": {
      "name": "python",
      "version": "3.7.11"
    },
    "accelerator": "GPU"
  },
  "cells": [
    {
      "cell_type": "code",
      "metadata": {
        "colab": {
          "base_uri": "https://localhost:8080/",
          "height": 1000
        },
        "id": "BGUf7iwcmgne",
        "outputId": "158a018c-daec-43ab-be30-45fb41e66efa"
      },
      "source": [
        "!pip install colabcode\n"
      ],
      "execution_count": null,
      "outputs": []
    },
    {
      "cell_type": "code",
      "metadata": {
        "colab": {
          "base_uri": "https://localhost:8080/"
        },
        "id": "iVgAUDJIm3z-",
        "outputId": "a173fa02-67b1-4360-e14b-cffcd429e98b"
      },
      "source": [
        "from colabcode import  ColabCode\n",
        "ColabCode(port=10000)"
      ],
      "execution_count": null,
      "outputs": []
    },
    {
      "cell_type": "code",
      "metadata": {
        "id": "e8b4b0xim9b6"
      },
      "source": [
        "!pip install transformers"
      ],
      "execution_count": null,
      "outputs": []
    },
    {
      "cell_type": "code",
      "execution_count": null,
      "metadata": {},
      "outputs": [],
      "source": [
        "from transformers import BertForSequenceClassification, BertTokenizer\n",
        "import torch\n",
        "\n",
        "# initialize the model and tokenizer\n",
        "tokenizer = BertTokenizer.from_pretrained('ProsusAI/finbert')\n",
        "model = BertForSequenceClassification.from_pretrained('ProsusAI/finbert')\n",
        "\n"
      ]
    }
  ]
}