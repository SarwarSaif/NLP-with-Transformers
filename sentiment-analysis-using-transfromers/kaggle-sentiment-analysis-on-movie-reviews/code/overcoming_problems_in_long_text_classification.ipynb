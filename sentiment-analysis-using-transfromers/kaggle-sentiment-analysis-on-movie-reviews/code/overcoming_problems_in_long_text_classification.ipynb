{
  "nbformat": 4,
  "nbformat_minor": 0,
  "metadata": {
    "colab": {
      "name": "overcoming-problems-in-long-text-classification.ipynb",
      "provenance": [],
      "authorship_tag": "ABX9TyOHBabci4Z2mAppgSO1FgIF"
    },
    "kernelspec": {
      "name": "python3711jvsc74a57bd04cd7ab41f5fca4b9b44701077e38c5ffd31fe66a6cab21e0214b68d958d0e462",
      "display_name": "Python 3.7.11 64-bit"
    },
    "language_info": {
      "name": "python",
      "version": "3.7.11"
    },
    "accelerator": "GPU",
    "metadata": {
      "interpreter": {
        "hash": "4cd7ab41f5fca4b9b44701077e38c5ffd31fe66a6cab21e0214b68d958d0e462"
      }
    }
  },
  "cells": [
    {
      "cell_type": "code",
      "metadata": {
        "colab": {
          "base_uri": "https://localhost:8080/",
          "height": 1000
        },
        "id": "BGUf7iwcmgne",
        "outputId": "158a018c-daec-43ab-be30-45fb41e66efa"
      },
      "source": [
        "!pip install colabcode\n"
      ],
      "execution_count": null,
      "outputs": []
    },
    {
      "cell_type": "code",
      "metadata": {
        "colab": {
          "base_uri": "https://localhost:8080/"
        },
        "id": "iVgAUDJIm3z-",
        "outputId": "a173fa02-67b1-4360-e14b-cffcd429e98b"
      },
      "source": [
        "from colabcode import  ColabCode\n",
        "ColabCode(port=10000)"
      ],
      "execution_count": null,
      "outputs": []
    },
    {
      "cell_type": "code",
      "metadata": {
        "id": "e8b4b0xim9b6"
      },
      "source": [
        "!pip install transformers"
      ],
      "execution_count": null,
      "outputs": []
    },
    {
      "cell_type": "code",
      "execution_count": null,
      "metadata": {},
      "outputs": [],
      "source": [
        "from transformers import BertForSequenceClassification, BertTokenizer\n",
        "import torch\n",
        "\n",
        "# initialize the model and tokenizer\n",
        "tokenizer = BertTokenizer.from_pretrained('ProsusAI/finbert')\n",
        "model = BertForSequenceClassification.from_pretrained('ProsusAI/finbert')\n"
      ]
    },
    {
      "cell_type": "code",
      "execution_count": 3,
      "metadata": {},
      "outputs": [],
      "source": [
        "# Intialize sentiment function to get sentiment probabilities for each tokes\n",
        "def sentiment(tokens):\n",
        "    # get output logits from the model\n",
        "    output = model(**tokens)\n",
        "    # convert to probabilities\n",
        "    probs = torch.nn.functional.softmax(output[0], dim=-1)\n",
        "    # return the probability tensor \n",
        "    return probs"
      ]
    },
    {
      "cell_type": "code",
      "execution_count": 10,
      "metadata": {},
      "outputs": [],
      "source": [
        "txt = \"\"\"\n",
        "Tokyo 2020: Two South African footballers test positive for Covid-19 in Olympic Village\n",
        "CNN Expansion Hong Kong July 2020 795169, Jessie Yeung\n",
        "By Jessie Yeung, CNN\n",
        "\n",
        "Updated 1332 GMT (2132 HKT) July 18, 2021\n",
        "(CNN)Just days before the Olympics are set to begin, three members from South Africa's Olympic football team have tested positive for Covid-19 after arriving at the Tokyo Olympic Village, according to the South African Football Association.\n",
        "\n",
        "\"We have three positive cases of COVID-19 in the camp here, two players and an official,\" team manager Mxolisi Sibam said in the press release Sunday.\n",
        "The two athletes are footballers Thabiso Monyane and Kamohelo Mahlatsi and the official is video analyst Mario Masha, according to the association. They are the first athletes to have tested positive in the village.\n",
        "The team left South Africa on July 13 and arrived in Tokyo the following day and had reported negative results.\n",
        "The video analyst tested positive Thursday and went into isolation, while the athletes tested positive \"on Friday and Saturday respectively,\" the association said.\n",
        "The whole team is now under quarantine \"until cleared to train,\" according to the the association said.\n",
        "\"We are now all in quarantine until we get cleared for training today, pending this morning's results. This unfortunate situation has made us miss our first intensive training session last night'' said Sibam.\n",
        "The first case in the village was reported on Saturday after an individual, not believed to be an athlete, tested positive.\n",
        "Outside the Olympic Village a third athlete tested positive on Sunday, said organizers. The names and nationalities of the positive cases were not made known by organizers.\n",
        "The Tokyo 2020 Olympics will begin on Friday -- but concern is growing over the danger of Covid spreading, with 55 confirmed cases now linked to the Games, including officials and contractors. The Japanese public, as well as many international observers, have voiced alarm over the Games going forward as Japan struggles to rein in its latest coronavirus outbreak.\n",
        "The country saw a huge second wave in the spring, peaking in April and May with close to 6,000 new cases per day. Cases began falling in June but have risen in recent weeks, sparking fears the arrival of teams from more than 200 countries could turn the Games into a global superspreader event.\n",
        "As of Friday, more than 15,000 Olympic individuals had entered Japan, according to Thomas Bach, president of the International Olympic Committee (IOC). The Olympic Village, containing 21 residential buildings, will house about 11,000 athletes.\n",
        "Bach acknowledged criticisms about staging the Olympics during the pandemic, but also defended the preventative measures that had been taken.\n",
        "\"We are well aware of the skepticism a number of people have here in Japan,\" he said at a news conference on Saturday. \"My appeal to the Japanese people is to welcome the athletes for their competitions.\" Organizers announced this month that the Tokyo venues will not have spectators due to the city's coronavirus state of emergency -- an unprecedented move, according to an IOC spokesman.\n",
        "The Olympic Village is prepped with Covid testing and health centers, with signs reminding residents to wear face masks and keep at least one meter (about 3.3 feet) away from each other. Athletes will be contact-traced and tested for Covid daily; if they test positive, they will be taken to an isolation facility outside the Olympic Village, and will not be able to compete.\n",
        "Other measures in the village include limiting the capacity of indoor facilities, such as dining halls and training centers, where residents are separated by plastic barriers.\n",
        "Still, some athletes have decided against the risk and pulled out of the games, including Australian tennis star Nick Kyrgios and Australian basketball player Liz Cambage. About 10,000 Olympic volunteers have also quit.\n",
        "CNN's Selina Wang contributed to this report.\n",
        "\"\"\""
      ]
    },
    {
      "cell_type": "code",
      "execution_count": 11,
      "metadata": {},
      "outputs": [
        {
          "output_type": "execute_result",
          "data": {
            "text/plain": [
              "800"
            ]
          },
          "metadata": {},
          "execution_count": 11
        }
      ],
      "source": [
        "tokens = tokenizer.encode_plus(txt, add_special_tokens=False)\n",
        "len(tokens['input_ids'])"
      ]
    },
    {
      "cell_type": "code",
      "execution_count": null,
      "metadata": {},
      "outputs": [],
      "source": []
    }
  ]
}