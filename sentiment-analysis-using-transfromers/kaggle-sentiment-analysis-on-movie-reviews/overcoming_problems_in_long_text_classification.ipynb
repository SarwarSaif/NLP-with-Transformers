{
  "nbformat": 4,
  "nbformat_minor": 0,
  "metadata": {
    "accelerator": "GPU",
    "colab": {
      "name": "overcoming-problems-in-long-text-classification.ipynb",
      "provenance": [],
      "collapsed_sections": [],
      "authorship_tag": "ABX9TyNILVln0EVB8iv2d622Bbzg"
    },
    "kernelspec": {
      "display_name": "Python 3",
      "name": "python3"
    },
    "language_info": {
      "name": "python"
    }
  },
  "cells": [
    {
      "cell_type": "code",
      "metadata": {
        "id": "BGUf7iwcmgne"
      },
      "source": [
        "!pip install colabcode\n"
      ],
      "execution_count": null,
      "outputs": []
    },
    {
      "cell_type": "code",
      "metadata": {
        "id": "iVgAUDJIm3z-"
      },
      "source": [
        "from colabcode import  ColabCode\n",
        "ColabCode(port=10000)\n"
      ],
      "execution_count": null,
      "outputs": []
    },
    {
      "cell_type": "code",
      "metadata": {
        "id": "WW2rNvpIFI_o"
      },
      "source": [
        "!pip install transformers"
      ],
      "execution_count": null,
      "outputs": []
    },
    {
      "cell_type": "code",
      "metadata": {
        "id": "NvLVc2qxFMEZ"
      },
      "source": [
        "from transformers import BertForSequenceClassification, BertTokenizer\n",
        "import torch\n",
        "\n",
        "# initialize the model and tokenizer\n",
        "tokenizer = BertTokenizer.from_pretrained('ProsusAI/finbert')\n",
        "model = BertForSequenceClassification.from_pretrained('ProsusAI/finbert')\n"
      ],
      "execution_count": null,
      "outputs": []
    },
    {
      "cell_type": "code",
      "metadata": {
        "id": "yqAWrENiFOAJ"
      },
      "source": [
        "# Intialize sentiment function to get sentiment probabilities for each tokes\n",
        "def sentiment(tokens):\n",
        "    # get output logits from the model\n",
        "    output = model(**tokens)\n",
        "    # convert to probabilities\n",
        "    probs = torch.nn.functional.softmax(output[0], dim=-1)\n",
        "    # return the probability tensor \n",
        "    return probs"
      ],
      "execution_count": null,
      "outputs": []
    },
    {
      "cell_type": "code",
      "metadata": {
        "id": "GUVTWWoPFP7a"
      },
      "source": [
        "txt = \"\"\"\n",
        "Tokyo 2020: Two South African footballers test positive for Covid-19 in Olympic Village\n",
        "CNN Expansion Hong Kong July 2020 795169, Jessie Yeung\n",
        "By Jessie Yeung, CNN\n",
        "\n",
        "Updated 1332 GMT (2132 HKT) July 18, 2021\n",
        "(CNN)Just days before the Olympics are set to begin, three members from South Africa's Olympic football team have tested positive for Covid-19 after arriving at the Tokyo Olympic Village, according to the South African Football Association.\n",
        "\n",
        "\"We have three positive cases of COVID-19 in the camp here, two players and an official,\" team manager Mxolisi Sibam said in the press release Sunday.\n",
        "The two athletes are footballers Thabiso Monyane and Kamohelo Mahlatsi and the official is video analyst Mario Masha, according to the association. They are the first athletes to have tested positive in the village.\n",
        "The team left South Africa on July 13 and arrived in Tokyo the following day and had reported negative results.\n",
        "The video analyst tested positive Thursday and went into isolation, while the athletes tested positive \"on Friday and Saturday respectively,\" the association said.\n",
        "The whole team is now under quarantine \"until cleared to train,\" according to the the association said.\n",
        "\"We are now all in quarantine until we get cleared for training today, pending this morning's results. This unfortunate situation has made us miss our first intensive training session last night'' said Sibam.\n",
        "The first case in the village was reported on Saturday after an individual, not believed to be an athlete, tested positive.\n",
        "Outside the Olympic Village a third athlete tested positive on Sunday, said organizers. The names and nationalities of the positive cases were not made known by organizers.\n",
        "The Tokyo 2020 Olympics will begin on Friday -- but concern is growing over the danger of Covid spreading, with 55 confirmed cases now linked to the Games, including officials and contractors. The Japanese public, as well as many international observers, have voiced alarm over the Games going forward as Japan struggles to rein in its latest coronavirus outbreak.\n",
        "The country saw a huge second wave in the spring, peaking in April and May with close to 6,000 new cases per day. Cases began falling in June but have risen in recent weeks, sparking fears the arrival of teams from more than 200 countries could turn the Games into a global superspreader event.\n",
        "As of Friday, more than 15,000 Olympic individuals had entered Japan, according to Thomas Bach, president of the International Olympic Committee (IOC). The Olympic Village, containing 21 residential buildings, will house about 11,000 athletes.\n",
        "Bach acknowledged criticisms about staging the Olympics during the pandemic, but also defended the preventative measures that had been taken.\n",
        "\"We are well aware of the skepticism a number of people have here in Japan,\" he said at a news conference on Saturday. \"My appeal to the Japanese people is to welcome the athletes for their competitions.\" Organizers announced this month that the Tokyo venues will not have spectators due to the city's coronavirus state of emergency -- an unprecedented move, according to an IOC spokesman.\n",
        "The Olympic Village is prepped with Covid testing and health centers, with signs reminding residents to wear face masks and keep at least one meter (about 3.3 feet) away from each other. Athletes will be contact-traced and tested for Covid daily; if they test positive, they will be taken to an isolation facility outside the Olympic Village, and will not be able to compete.\n",
        "Other measures in the village include limiting the capacity of indoor facilities, such as dining halls and training centers, where residents are separated by plastic barriers.\n",
        "Still, some athletes have decided against the risk and pulled out of the games, including Australian tennis star Nick Kyrgios and Australian basketball player Liz Cambage. About 10,000 Olympic volunteers have also quit.\n",
        "CNN's Selina Wang contributed to this report.\n",
        "\"\"\""
      ],
      "execution_count": null,
      "outputs": []
    },
    {
      "cell_type": "code",
      "metadata": {
        "id": "Ml-ASUF5FS7f"
      },
      "source": [
        "tokens = tokenizer.encode_plus(txt, add_special_tokens=False)\n",
        "len(tokens['input_ids'])"
      ],
      "execution_count": null,
      "outputs": []
    },
    {
      "cell_type": "code",
      "metadata": {
        "id": "P-sAcxrCFUjM"
      },
      "source": [
        "input_ids = tokens['input_ids']\n",
        "attention_mask = tokens['attention_mask']"
      ],
      "execution_count": null,
      "outputs": []
    },
    {
      "cell_type": "markdown",
      "metadata": {
        "id": "INb2u31aFYNV"
      },
      "source": [
        "## Long text classification using windows"
      ]
    },
    {
      "cell_type": "code",
      "metadata": {
        "id": "RyqLtQqbFVy_"
      },
      "source": [
        ""
      ],
      "execution_count": null,
      "outputs": []
    },
    {
      "cell_type": "code",
      "metadata": {
        "id": "e8b4b0xim9b6"
      },
      "source": [
        "probs_list = []\n",
        "start = 0\n",
        "window_size = 510\n",
        "\n",
        "total_len = len(input_ids)\n",
        "\n",
        "loop = True\n",
        "while loop:\n",
        "    end = start + window_size\n",
        "\n",
        "    if end >= total_len:\n",
        "        loop = False\n",
        "        end = total_len\n",
        "    \n",
        "    # extract window from input_ids and attention_mask and add special token manually\n",
        "    input_ids_chunk = [101] + input_ids[start:end] + [102]\n",
        "    attention_mask_chunk = [1] + attention_mask[start:end] + [1]\n",
        "\n",
        "    # Add padding\n",
        "    input_ids_chunk += [0] * (window_size - len(input_ids_chunk) + 2)\n",
        "    attention_mask_chunk += [0] * (window_size - len(attention_mask_chunk) + 2)\n",
        "\n",
        "    print(len(input_ids_chunk), len(attention_mask_chunk))\n",
        "    \n",
        "    # Format two tensors into pytorch\n",
        "    input_dict = {\n",
        "        'input_ids': torch.Tensor([input_ids_chunk]).long(), # Long Tensor\n",
        "        'attention_mask': torch.Tensor([attention_mask_chunk]).int(), # Integer tensor\n",
        "    }\n",
        "\n",
        "    probs_list.append(sentiment(input_dict))\n",
        "\n",
        "    print(f'start={start}\\nend={end}')\n",
        "    start = end"
      ],
      "execution_count": null,
      "outputs": []
    },
    {
      "cell_type": "code",
      "metadata": {
        "id": "Vw4x1EY5FbWE"
      },
      "source": [
        "probs_list"
      ],
      "execution_count": null,
      "outputs": []
    },
    {
      "cell_type": "code",
      "metadata": {
        "id": "oh-EbgGcFb_V"
      },
      "source": [
        ""
      ],
      "execution_count": null,
      "outputs": []
    },
    {
      "cell_type": "code",
      "metadata": {
        "id": "AhRKOFSBFfFQ"
      },
      "source": [
        "with torch.no_grad():\n",
        "  stack = torch.stack(probs_list)\n",
        "  stack\n",
        "  stack=stack.resize_(stack.shape[0], stack.shape[2])\n",
        "  avg_prob = stack.mean(dim=0)"
      ],
      "execution_count": null,
      "outputs": []
    },
    {
      "cell_type": "code",
      "metadata": {
        "id": "-thJpCjqF4xv"
      },
      "source": [
        "torch.argmax(avg_prob).item()"
      ],
      "execution_count": null,
      "outputs": []
    }
  ]
}